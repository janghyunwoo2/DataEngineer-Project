{
 "cells": [
  {
   "cell_type": "markdown",
   "metadata": {},
   "source": [
    "# 원본 데이터(csv) jsonl 및 parquet로 만들기\n",
    "\n",
    "\n",
    "실제 항공정보가 하나씩 json객체로 스트리밍으로 전송된다고 가정.\n",
    "\n",
    "전송된 json 객체는 kinesis stream, firehose를 거쳐서 s3에 parquet로 저장되게 설계함.\n",
    "\n",
    "스트리밍으로 전송되는 것을 구현하기 위해 원본데이터(csv)를 json으로 변환해 kinesis로 전송되게 한다.\n",
    "\n",
    "모든 원본데이터를 전송 할 것은 아니므로 원본데이터의 일부분을 때어내서 json으로 만들고, 만든 데이터를 읽어들여 전송한다.(원본 데이터 용량이 2.6G나 된다.)\n",
    "\n",
    "결과적으로 s3에는 parquet로 변환된 데이터가 쌓이게 되는데, 모든 데이터를 전송했다고 가정하고 원본데이터(csv)를 줄이지 않고 parquet로 변환하여 저장한다!\n"
   ]
  },
  {
   "cell_type": "markdown",
   "metadata": {},
   "source": [
    "# 원본 데이터 jsonl으로 만들기"
   ]
  },
  {
   "cell_type": "code",
   "execution_count": 1,
   "metadata": {},
   "outputs": [
    {
     "name": "stdout",
     "output_type": "stream",
     "text": [
      "download: s3://jhw620/Airplane_bigdata/On_Time_On_Time_Performance_2015.csv to ../data/On_Time_On_Time_Performance_2015.csv\n"
     ]
    }
   ],
   "source": [
    "# 원본 s3에서 가져오기 ** 이미 있음 실행 안해도 됌!\n",
    "!aws s3 cp s3://jhw620/Airplane_bigdata/On_Time_On_Time_Performance_2015.csv ../data"
   ]
  },
  {
   "cell_type": "code",
   "execution_count": 2,
   "metadata": {},
   "outputs": [],
   "source": [
    "# spark 객체 생성\n",
    "try:\n",
    "  sc and spark\n",
    "except NameError as e:\n",
    "  import findspark\n",
    "  findspark.init()\n",
    "  import pyspark\n",
    "  import pyspark.sql\n",
    "\n",
    "  sc = pyspark.SparkContext()\n",
    "  spark = pyspark.sql.SparkSession(sc).builder.getOrCreate()"
   ]
  },
  {
   "cell_type": "code",
   "execution_count": 3,
   "metadata": {},
   "outputs": [
    {
     "data": {
      "text/plain": [
       "Row(Year='2015', Quarter='1', Month='1', DayofMonth='1', DayOfWeek='4', FlightDate='2015-01-01', UniqueCarrier='AA', AirlineID='19805', Carrier='AA', TailNum='N001AA', FlightNum='1519', OriginAirportID='11298', OriginAirportSeqID='1129803', OriginCityMarketID='30194', Origin='DFW', OriginCityName='Dallas/Fort Worth, TX', OriginState='TX', OriginStateFips='48', OriginStateName='Texas', OriginWac='74', DestAirportID='13244', DestAirportSeqID='1324402', DestCityMarketID='33244', Dest='MEM', DestCityName='Memphis, TN', DestState='TN', DestStateFips='47', DestStateName='Tennessee', DestWac='54', CRSDepTime='1345', DepTime='1342', DepDelay='-3.00', DepDelayMinutes='0.00', DepDel15='0.00', DepartureDelayGroups='-1', DepTimeBlk='1300-1359', TaxiOut='16.00', WheelsOff='1358', WheelsOn='1457', TaxiIn='7.00', CRSArrTime='1510', ArrTime='1504', ArrDelay='-6.00', ArrDelayMinutes='0.00', ArrDel15='0.00', ArrivalDelayGroups='-1', ArrTimeBlk='1500-1559', Cancelled='0.00', CancellationCode=None, Diverted='0.00', CRSElapsedTime='85.00', ActualElapsedTime='82.00', AirTime='59.00', Flights='1.00', Distance='432.00', DistanceGroup='2', CarrierDelay=None, WeatherDelay=None, NASDelay=None, SecurityDelay=None, LateAircraftDelay=None, FirstDepTime=None, TotalAddGTime=None, LongestAddGTime=None, DivAirportLandings='0', DivReachedDest=None, DivActualElapsedTime=None, DivArrDelay=None, DivDistance=None, Div1Airport=None, Div1AirportID=None, Div1AirportSeqID=None, Div1WheelsOn=None, Div1TotalGTime=None, Div1LongestGTime=None, Div1WheelsOff=None, Div1TailNum=None, Div2Airport=None, Div2AirportID=None, Div2AirportSeqID=None, Div2WheelsOn=None, Div2TotalGTime=None, Div2LongestGTime=None, Div2WheelsOff=None, Div2TailNum=None, Div3Airport=None, Div3AirportID=None, Div3AirportSeqID=None, Div3WheelsOn=None, Div3TotalGTime=None, Div3LongestGTime=None, Div3WheelsOff=None, Div3TailNum=None, Div4Airport=None, Div4AirportID=None, Div4AirportSeqID=None, Div4WheelsOn=None, Div4TotalGTime=None, Div4LongestGTime=None, Div4WheelsOff=None, Div4TailNum=None, Div5Airport=None, Div5AirportID=None, Div5AirportSeqID=None, Div5WheelsOn=None, Div5TotalGTime=None, Div5LongestGTime=None, Div5WheelsOff=None, Div5TailNum=None, _c109=None)"
      ]
     },
     "execution_count": 3,
     "metadata": {},
     "output_type": "execute_result"
    }
   ],
   "source": [
    "# CSV 파일 읽어오기\n",
    "on_time_dataframe = spark.read.csv(\n",
    "    '../data/On_Time_On_Time_Performance_2015.csv',header=True)\n",
    "on_time_dataframe.limit(10).head()"
   ]
  },
  {
   "cell_type": "code",
   "execution_count": 3,
   "metadata": {},
   "outputs": [
    {
     "data": {
      "text/plain": [
       "Row(Year='2015', Quarter='1', Month='1', DayofMonth='1', DayOfWeek='4', FlightDate='2015-01-01', Carrier='AA', TailNum='N001AA', FlightNum='1519', Origin='DFW', OriginCityName='Dallas/Fort Worth, TX', OriginState='TX', Dest='MEM', DestCityName='Memphis, TN', DestState='TN', DepTime='1342', DepDelay=-3.0, DepDelayMinutes=0, TaxiOut=16.0, TaxiIn=7.0, WheelsOff='1358', WheelsOn='1457', ArrTime='1504', ArrDelay=-6.0, ArrDelayMinutes=0.0, Cancelled=0, Diverted=0, ActualElapsedTime=82.0, AirTime=59.0, Flights=1, Distance=432.0, CarrierDelay=None, WeatherDelay=None, NASDelay=None, SecurityDelay=None, LateAircraftDelay=None, CRSDepTime='1345', CRSArrTime='1510')"
      ]
     },
     "execution_count": 3,
     "metadata": {},
     "output_type": "execute_result"
    }
   ],
   "source": [
    "# 읽어온 데이터를 테이블화 한다.\n",
    "on_time_dataframe.registerTempTable(\"on_time_performance\")\n",
    "\n",
    "# sql로 테이블화 한 데이터를 읽어온다.\n",
    "trimmed_cast_performance = spark.sql(\"\"\"\n",
    "SELECT\n",
    "  Year, Quarter, Month, DayofMonth, DayOfWeek, FlightDate,\n",
    "  Carrier, TailNum, FlightNum,\n",
    "  Origin, OriginCityName, OriginState,\n",
    "  Dest, DestCityName, DestState,\n",
    "  DepTime, cast(DepDelay as float), cast(DepDelayMinutes as int),\n",
    "  cast(TaxiOut as float), cast(TaxiIn as float),\n",
    "  WheelsOff, WheelsOn,\n",
    "  ArrTime, cast(ArrDelay as float), cast(ArrDelayMinutes as float),\n",
    "  cast(Cancelled as int), cast(Diverted as int),\n",
    "  cast(ActualElapsedTime as float), cast(AirTime as float),\n",
    "  cast(Flights as int), cast(Distance as float),\n",
    "  cast(CarrierDelay as float), cast(WeatherDelay as float), \n",
    "  cast(NASDelay as float),\n",
    "  cast(SecurityDelay as float), \n",
    "  cast(LateAircraftDelay as float),\n",
    "  CRSDepTime, CRSArrTime\n",
    "FROM\n",
    "  on_time_performance\n",
    "\"\"\")\n",
    "\n",
    "# sql로 읽어온 테이블 데이터를 다시 테이블로 등록한다.\n",
    "trimmed_cast_performance.registerTempTable(\"on_time_performance\")\n",
    "trimmed_cast_performance.limit(10).head()"
   ]
  },
  {
   "cell_type": "code",
   "execution_count": 4,
   "metadata": {},
   "outputs": [
    {
     "name": "stdout",
     "output_type": "stream",
     "text": [
      "+----+-------+-----+----------+---------+----------+-------+-------+---------+------+--------------------+-----------+----+--------------------+---------+-------+--------+---------------+-------+------+---------+--------+-------+--------+---------------+---------+--------+-----------------+-------+-------+--------+------------+------------+--------+-------------+-----------------+----------+----------+\n",
      "|Year|Quarter|Month|DayofMonth|DayOfWeek|FlightDate|Carrier|TailNum|FlightNum|Origin|      OriginCityName|OriginState|Dest|        DestCityName|DestState|DepTime|DepDelay|DepDelayMinutes|TaxiOut|TaxiIn|WheelsOff|WheelsOn|ArrTime|ArrDelay|ArrDelayMinutes|Cancelled|Diverted|ActualElapsedTime|AirTime|Flights|Distance|CarrierDelay|WeatherDelay|NASDelay|SecurityDelay|LateAircraftDelay|CRSDepTime|CRSArrTime|\n",
      "+----+-------+-----+----------+---------+----------+-------+-------+---------+------+--------------------+-----------+----+--------------------+---------+-------+--------+---------------+-------+------+---------+--------+-------+--------+---------------+---------+--------+-----------------+-------+-------+--------+------------+------------+--------+-------------+-----------------+----------+----------+\n",
      "|2015|      1|    1|         1|        4|2015-01-01|     AA| N001AA|     1519|   DFW|Dallas/Fort Worth...|         TX| MEM|         Memphis, TN|       TN|   1342|    -3.0|              0|   16.0|   7.0|     1358|    1457|   1504|    -6.0|            0.0|        0|       0|             82.0|   59.0|      1|   432.0|        null|        null|    null|         null|             null|      1345|      1510|\n",
      "|2015|      1|    1|         1|        4|2015-01-01|     AA| N001AA|     1519|   MEM|         Memphis, TN|         TN| DFW|Dallas/Fort Worth...|       TX|   1546|    -4.0|              0|    9.0|   9.0|     1555|    1712|   1721|    -9.0|            0.0|        0|       0|             95.0|   77.0|      1|   432.0|        null|        null|    null|         null|             null|      1550|      1730|\n",
      "|2015|      1|    1|         1|        4|2015-01-01|     AA| N002AA|     2349|   ORD|         Chicago, IL|         IL| DFW|Dallas/Fort Worth...|       TX|   1845|     0.0|              0|   31.0|  16.0|     1916|    2125|   2141|    26.0|           26.0|        0|       0|            176.0|  129.0|      1|   802.0|         0.0|         0.0|    26.0|          0.0|              0.0|      1845|      2115|\n",
      "+----+-------+-----+----------+---------+----------+-------+-------+---------+------+--------------------+-----------+----+--------------------+---------+-------+--------+---------------+-------+------+---------+--------+-------+--------+---------------+---------+--------+-----------------+-------+-------+--------+------------+------------+--------+-------------+-----------------+----------+----------+\n",
      "only showing top 3 rows\n",
      "\n"
     ]
    }
   ],
   "source": [
    "# 데이터 크기 줄이기 위해 1달간 데이터 추출\n",
    "january_data = spark.sql(\"\"\"\n",
    "   SELECT * FROM on_time_performance WHERE FlightDate >= \"2015-01-01\" AND FlightDate <= \"2015-01-31\"\n",
    "\"\"\")\n",
    "january_data.show(3)"
   ]
  },
  {
   "cell_type": "code",
   "execution_count": null,
   "metadata": {},
   "outputs": [],
   "source": [
    "# 크기 줄인 데이터를 jsonl으로 저장.\n",
    "january_data.repartition(1).write.mode('overwrite').json(\"../data/stream_kinesis_godata.json\")\n",
    "os.system(\"cp ../data/stream_kinesis_godata.json/part* ../data/Raw_Data.jsonl\") # 파일 하나로 합치기"
   ]
  },
  {
   "cell_type": "markdown",
   "metadata": {},
   "source": [
    "# 원본 데이터 parquet로 만들기"
   ]
  },
  {
   "cell_type": "code",
   "execution_count": 5,
   "metadata": {},
   "outputs": [
    {
     "name": "stdout",
     "output_type": "stream",
     "text": [
      "+----+-------+-----+----------+---------+----------+-------+-------+---------+------+--------------------+-----------+----+--------------------+---------+-------+--------+---------------+-------+------+---------+--------+-------+--------+---------------+---------+--------+-----------------+-------+-------+--------+------------+------------+--------+-------------+-----------------+----------+----------+\n",
      "|Year|Quarter|Month|DayofMonth|DayOfWeek|FlightDate|Carrier|TailNum|FlightNum|Origin|      OriginCityName|OriginState|Dest|        DestCityName|DestState|DepTime|DepDelay|DepDelayMinutes|TaxiOut|TaxiIn|WheelsOff|WheelsOn|ArrTime|ArrDelay|ArrDelayMinutes|Cancelled|Diverted|ActualElapsedTime|AirTime|Flights|Distance|CarrierDelay|WeatherDelay|NASDelay|SecurityDelay|LateAircraftDelay|CRSDepTime|CRSArrTime|\n",
      "+----+-------+-----+----------+---------+----------+-------+-------+---------+------+--------------------+-----------+----+--------------------+---------+-------+--------+---------------+-------+------+---------+--------+-------+--------+---------------+---------+--------+-----------------+-------+-------+--------+------------+------------+--------+-------------+-----------------+----------+----------+\n",
      "|2015|      1|    1|         1|        4|2015-01-01|     AA| N001AA|     1519|   DFW|Dallas/Fort Worth...|         TX| MEM|         Memphis, TN|       TN|   1342|    -3.0|              0|   16.0|   7.0|     1358|    1457|   1504|    -6.0|            0.0|        0|       0|             82.0|   59.0|      1|   432.0|        null|        null|    null|         null|             null|      1345|      1510|\n",
      "|2015|      1|    1|         1|        4|2015-01-01|     AA| N001AA|     1519|   MEM|         Memphis, TN|         TN| DFW|Dallas/Fort Worth...|       TX|   1546|    -4.0|              0|    9.0|   9.0|     1555|    1712|   1721|    -9.0|            0.0|        0|       0|             95.0|   77.0|      1|   432.0|        null|        null|    null|         null|             null|      1550|      1730|\n",
      "|2015|      1|    1|         1|        4|2015-01-01|     AA| N002AA|     2349|   ORD|         Chicago, IL|         IL| DFW|Dallas/Fort Worth...|       TX|   1845|     0.0|              0|   31.0|  16.0|     1916|    2125|   2141|    26.0|           26.0|        0|       0|            176.0|  129.0|      1|   802.0|         0.0|         0.0|    26.0|          0.0|              0.0|      1845|      2115|\n",
      "+----+-------+-----+----------+---------+----------+-------+-------+---------+------+--------------------+-----------+----+--------------------+---------+-------+--------+---------------+-------+------+---------+--------+-------+--------+---------------+---------+--------+-----------------+-------+-------+--------+------------+------------+--------+-------------+-----------------+----------+----------+\n",
      "only showing top 3 rows\n",
      "\n"
     ]
    }
   ],
   "source": [
    "# 모든 데이터를 가져온다.\n",
    "all_data = spark.sql(\"\"\"\n",
    "   SELECT * FROM on_time_performance\n",
    "\"\"\")\n",
    "all_data.show(3)"
   ]
  },
  {
   "cell_type": "code",
   "execution_count": 6,
   "metadata": {},
   "outputs": [],
   "source": [
    "# parquet으로 저장.\n",
    "all_data.repartition(1).write.mode('overwrite').parquet(\"../../02_Data_Batch_Processing/data/Raw_Data.parquet\")"
   ]
  }
 ],
 "metadata": {
  "kernelspec": {
   "display_name": "Python 3",
   "language": "python",
   "name": "python3"
  },
  "language_info": {
   "codemirror_mode": {
    "name": "ipython",
    "version": 3
   },
   "file_extension": ".py",
   "mimetype": "text/x-python",
   "name": "python",
   "nbconvert_exporter": "python",
   "pygments_lexer": "ipython3",
   "version": "3.6.8"
  }
 },
 "nbformat": 4,
 "nbformat_minor": 2
}
